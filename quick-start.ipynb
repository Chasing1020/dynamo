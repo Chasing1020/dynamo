{
 "cells": [
  {
   "cell_type": "markdown",
   "id": "intro",
   "metadata": {},
   "source": [
    "# Quick Start Guide for Dynamo\n",
    "\n",
    "### Running this Notebook on Ubuntu\n",
    "\n",
    "This notebook will guide you through installing dependencies, setting up a virtual environment, and running an LLM model using `dynamo` on an **Ubuntu machine**.\n",
    "\n",
    "## **1️⃣ Install System Dependencies**"
   ]
  },
  {
   "cell_type": "code",
   "execution_count": null,
   "id": "install-system-deps",
   "metadata": {},
   "outputs": [],
   "source": [
    "# Update package lists and install required system packages\n",
    "!apt-get update && DEBIAN_FRONTEND=noninteractive apt-get install -yq python3-dev curl libucx0"
   ]
  },
  {
   "cell_type": "markdown",
   "id": "install-uv",
   "metadata": {},
   "source": [
    "## **2️⃣ Install uv Package Manager**"
   ]
  },
  {
   "cell_type": "code",
   "execution_count": null,
   "id": "install-uv-code",
   "metadata": {},
   "outputs": [],
   "source": [
    "# Install uv package manager\n",
    "!curl -LsSf https://astral.sh/uv/install.sh | sh\n",
    "!source $HOME/.local/bin/env"
   ]
  },
  {
   "cell_type": "markdown",
   "id": "setup-venv",
   "metadata": {},
   "source": [
    "## **3️⃣ Set Up Virtual Environment and Install Dynamo**"
   ]
  },
  {
   "cell_type": "code",
   "execution_count": null,
   "id": "install-dynamo",
   "metadata": {},
   "outputs": [],
   "source": [
    "# Create and activate a virtual environment\n",
    "!uv venv dynamo-venv\n",
    "!source dynamo-venv/bin/activate\n",
    "\n",
    "# Install Dynamo package\n",
    "!uv pip install ai-dynamo[all]"
   ]
  },
  {
   "cell_type": "markdown",
   "id": "run-model",
   "metadata": {},
   "source": [
    "## **4️⃣ Run and Interact with an LLM Locally**\n",
    "\n",
    "To run a model and interact with it locally, we use `dynamo run` with a Hugging Face model.\n",
    "Dynamo supports several backends, including: **mistralrs, sglang, vllm, and tensorrtllm**.\n",
    "\n",
    "### **Example Command:**"
   ]
  },
  {
   "cell_type": "code",
   "execution_count": null,
   "id": "run-llm",
   "metadata": {},
   "outputs": [],
   "source": [
    "# Define model and backend\n",
    "model_name = \"deepseek-ai/DeepSeek-R1-Distill-Llama-8B\"\n",
    "backend = \"vllm\"\n",
    "command = f\"dynamo run out={backend} {model_name}\"\n",
    "\n",
    "# Run the model\n",
    "print(f\"Running the model with: {command}\")\n",
    "!{command}"
   ]
  },
  {
   "cell_type": "markdown",
   "id": "final-notes",
   "metadata": {},
   "source": [
    "## **5️⃣ Next Steps**\n",
    "\n",
    "- You can now chat with the model directly from the terminal.\n",
    "- If you need to restart, **reactivate** the virtual environment:\n",
    "  ```bash\n",
    "  source dynamo-venv/bin/activate\n",
    "  ```\n",
    "- If you encounter issues, ensure all dependencies are correctly installed."
   ]
  }
 ],
 "metadata": {
  "kernelspec": {
   "display_name": "Python 3",
   "language": "python",
   "name": "python3"
  },
  "language_info": {
   "codemirror_mode": {
    "name": "ipython",
    "version": 3
   },
   "file_extension": ".py",
   "mimetype": "text/x-python",
   "name": "python",
   "nbconvert_exporter": "python",
   "pygments_lexer": "ipython3",
   "version": "3.8.10"
  }
 },
 "nbformat": 4,
 "nbformat_minor": 4
}
