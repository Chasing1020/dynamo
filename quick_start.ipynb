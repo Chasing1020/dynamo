# Quick Start Guide for Dynamo in Jupyter Notebook

# ## Installation

# The following steps will install necessary system packages, 
# set up a virtual environment using `uv`, and install the `abc` package.

import os

# Install system-level dependencies
print("Updating package lists and installing required system packages...")
os.system("apt-get update && DEBIAN_FRONTEND=noninteractive apt-get install -yq python3-dev curl libucx0")

# Install uv package manager
print("Installing uv package manager...")
os.system("curl -LsSf https://astral.sh/uv/install.sh | sh")
os.system("source $HOME/.local/bin/env")

# Create and activate a virtual environment for ABC
print("Setting up virtual environment...")
os.system("uv venv dynamo-venv")
os.system("source dynamo-venv/bin/activate")

# Install the Dynamo package with all dependencies
print("Installing Dynamo package...")
os.system("uv pip install ai-dynamo[all]")

# ## Running and Interacting with an LLM Locally

# To run a model and interact with it locally, we use `dynamo run` with a Hugging Face model.
# Dynamo supports several backends, including: mistralrs, sglang, vllm, and tensorrtllm.

# Example command to run a model
model_name = "deepseek-ai/DeepSeek-R1-Distill-Llama-8B"
backend = "vllm"
command = f"dynamo run out={backend} {model_name}"

print(f"Running the model with: {command}")
os.system(command)

# Once launched, you'll be able to chat directly with the model from the command line.
